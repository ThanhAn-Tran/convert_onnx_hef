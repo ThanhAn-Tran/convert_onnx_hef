{
 "cells": [
  {
   "cell_type": "code",
   "execution_count": null,
   "id": "d5fe394e",
   "metadata": {},
   "outputs": [],
   "source": [
    "!pip install roboflow\n"
   ]
  },
  {
   "cell_type": "code",
   "execution_count": 3,
   "id": "08ab8b3d",
   "metadata": {},
   "outputs": [
    {
     "name": "stdout",
     "output_type": "stream",
     "text": [
      "loading Roboflow workspace...\n",
      "loading Roboflow project...\n"
     ]
    },
    {
     "name": "stderr",
     "output_type": "stream",
     "text": [
      "Downloading Dataset Version Zip in paper_ball-4 to yolov11:: 100%|██████████| 87809/87809 [01:26<00:00, 1014.92it/s]"
     ]
    },
    {
     "name": "stdout",
     "output_type": "stream",
     "text": [
      "\n"
     ]
    },
    {
     "name": "stderr",
     "output_type": "stream",
     "text": [
      "\n",
      "Extracting Dataset Version Zip to paper_ball-4 in yolov11:: 100%|██████████| 3333/3333 [00:00<00:00, 3366.17it/s]\n"
     ]
    }
   ],
   "source": [
    "\n",
    "from roboflow import Roboflow\n",
    "rf = Roboflow(api_key=\"tZvDiMmpYHE0lWMKx6D5\")\n",
    "project = rf.workspace(\"airz-x\").project(\"paper_ball-m6mum\")\n",
    "version = project.version(4)\n",
    "dataset = version.download(\"yolov11\")\n",
    "                "
   ]
  },
  {
   "cell_type": "code",
   "execution_count": 7,
   "id": "6195600c",
   "metadata": {},
   "outputs": [
    {
     "name": "stderr",
     "output_type": "stream",
     "text": [
      "ERROR: Could not find a version that satisfies the requirement hailo-model-zoo (from versions: none)\n",
      "ERROR: No matching distribution found for hailo-model-zoo\n",
      "\n",
      "[notice] A new release of pip available: 22.3.1 -> 25.2\n",
      "[notice] To update, run: python.exe -m pip install --upgrade pip\n"
     ]
    },
    {
     "name": "stdout",
     "output_type": "stream",
     "text": [
      "Collecting ultralytics\n",
      "  Downloading ultralytics-8.3.204-py3-none-any.whl (1.1 MB)\n",
      "     ---------------------------------------- 1.1/1.1 MB 1.6 MB/s eta 0:00:00\n",
      "Requirement already satisfied: pillow>=7.1.2 in d:\\.projectpython\\exportdataintohef\\compiler_pt_to_hef\\lib\\site-packages (from ultralytics) (11.3.0)\n",
      "Collecting scipy>=1.4.1\n",
      "  Using cached scipy-1.15.3-cp310-cp310-win_amd64.whl (41.3 MB)\n",
      "Requirement already satisfied: pyyaml>=5.3.1 in d:\\.projectpython\\exportdataintohef\\compiler_pt_to_hef\\lib\\site-packages (from ultralytics) (6.0.3)\n",
      "Collecting ultralytics-thop>=2.0.0\n",
      "  Downloading ultralytics_thop-2.0.17-py3-none-any.whl (28 kB)\n",
      "Collecting torchvision>=0.9.0\n",
      "  Using cached torchvision-0.23.0-cp310-cp310-win_amd64.whl (1.6 MB)\n",
      "Requirement already satisfied: requests>=2.23.0 in d:\\.projectpython\\exportdataintohef\\compiler_pt_to_hef\\lib\\site-packages (from ultralytics) (2.32.5)\n",
      "Requirement already satisfied: psutil in d:\\.projectpython\\exportdataintohef\\compiler_pt_to_hef\\lib\\site-packages (from ultralytics) (7.1.0)\n",
      "Collecting polars\n",
      "  Downloading polars-1.33.1-cp39-abi3-win_amd64.whl (39.5 MB)\n",
      "     ---------------------------------------- 39.5/39.5 MB 2.7 MB/s eta 0:00:00\n",
      "Collecting torch>=1.8.0\n",
      "  Using cached torch-2.8.0-cp310-cp310-win_amd64.whl (241.4 MB)\n",
      "Collecting opencv-python>=4.6.0\n",
      "  Downloading opencv_python-4.12.0.88-cp37-abi3-win_amd64.whl (39.0 MB)\n",
      "     ---------------------------------------- 39.0/39.0 MB 3.8 MB/s eta 0:00:00\n",
      "Requirement already satisfied: numpy>=1.23.0 in d:\\.projectpython\\exportdataintohef\\compiler_pt_to_hef\\lib\\site-packages (from ultralytics) (2.2.6)\n",
      "Requirement already satisfied: matplotlib>=3.3.0 in d:\\.projectpython\\exportdataintohef\\compiler_pt_to_hef\\lib\\site-packages (from ultralytics) (3.10.6)\n",
      "Requirement already satisfied: fonttools>=4.22.0 in d:\\.projectpython\\exportdataintohef\\compiler_pt_to_hef\\lib\\site-packages (from matplotlib>=3.3.0->ultralytics) (4.60.1)\n",
      "Requirement already satisfied: contourpy>=1.0.1 in d:\\.projectpython\\exportdataintohef\\compiler_pt_to_hef\\lib\\site-packages (from matplotlib>=3.3.0->ultralytics) (1.3.2)\n",
      "Requirement already satisfied: python-dateutil>=2.7 in d:\\.projectpython\\exportdataintohef\\compiler_pt_to_hef\\lib\\site-packages (from matplotlib>=3.3.0->ultralytics) (2.9.0.post0)\n",
      "Requirement already satisfied: cycler>=0.10 in d:\\.projectpython\\exportdataintohef\\compiler_pt_to_hef\\lib\\site-packages (from matplotlib>=3.3.0->ultralytics) (0.12.1)\n",
      "Requirement already satisfied: pyparsing>=2.3.1 in d:\\.projectpython\\exportdataintohef\\compiler_pt_to_hef\\lib\\site-packages (from matplotlib>=3.3.0->ultralytics) (3.2.5)\n",
      "Requirement already satisfied: kiwisolver>=1.3.1 in d:\\.projectpython\\exportdataintohef\\compiler_pt_to_hef\\lib\\site-packages (from matplotlib>=3.3.0->ultralytics) (1.4.9)\n",
      "Requirement already satisfied: packaging>=20.0 in d:\\.projectpython\\exportdataintohef\\compiler_pt_to_hef\\lib\\site-packages (from matplotlib>=3.3.0->ultralytics) (25.0)\n",
      "Requirement already satisfied: certifi>=2017.4.17 in d:\\.projectpython\\exportdataintohef\\compiler_pt_to_hef\\lib\\site-packages (from requests>=2.23.0->ultralytics) (2025.8.3)\n",
      "Requirement already satisfied: charset_normalizer<4,>=2 in d:\\.projectpython\\exportdataintohef\\compiler_pt_to_hef\\lib\\site-packages (from requests>=2.23.0->ultralytics) (3.4.3)\n",
      "Requirement already satisfied: idna<4,>=2.5 in d:\\.projectpython\\exportdataintohef\\compiler_pt_to_hef\\lib\\site-packages (from requests>=2.23.0->ultralytics) (3.7)\n",
      "Requirement already satisfied: urllib3<3,>=1.21.1 in d:\\.projectpython\\exportdataintohef\\compiler_pt_to_hef\\lib\\site-packages (from requests>=2.23.0->ultralytics) (2.5.0)\n",
      "Collecting fsspec\n",
      "  Downloading fsspec-2025.9.0-py3-none-any.whl (199 kB)\n",
      "     -------------------------------------- 199.3/199.3 kB 5.9 MB/s eta 0:00:00\n",
      "Collecting filelock\n",
      "  Downloading filelock-3.19.1-py3-none-any.whl (15 kB)\n",
      "Requirement already satisfied: typing-extensions>=4.10.0 in d:\\.projectpython\\exportdataintohef\\compiler_pt_to_hef\\lib\\site-packages (from torch>=1.8.0->ultralytics) (4.15.0)\n",
      "Collecting networkx\n",
      "  Using cached networkx-3.4.2-py3-none-any.whl (1.7 MB)\n",
      "Collecting jinja2\n",
      "  Using cached jinja2-3.1.6-py3-none-any.whl (134 kB)\n",
      "Collecting sympy>=1.13.3\n",
      "  Using cached sympy-1.14.0-py3-none-any.whl (6.3 MB)\n",
      "Requirement already satisfied: six>=1.5 in d:\\.projectpython\\exportdataintohef\\compiler_pt_to_hef\\lib\\site-packages (from python-dateutil>=2.7->matplotlib>=3.3.0->ultralytics) (1.17.0)\n",
      "Collecting mpmath<1.4,>=1.1.0\n",
      "  Using cached mpmath-1.3.0-py3-none-any.whl (536 kB)\n",
      "Collecting MarkupSafe>=2.0\n",
      "  Downloading markupsafe-3.0.3-cp310-cp310-win_amd64.whl (15 kB)\n",
      "Installing collected packages: mpmath, sympy, scipy, polars, opencv-python, networkx, MarkupSafe, fsspec, filelock, jinja2, torch, ultralytics-thop, torchvision, ultralytics\n",
      "Successfully installed MarkupSafe-3.0.3 filelock-3.19.1 fsspec-2025.9.0 jinja2-3.1.6 mpmath-1.3.0 networkx-3.4.2 opencv-python-4.12.0.88 polars-1.33.1 scipy-1.15.3 sympy-1.14.0 torch-2.8.0 torchvision-0.23.0 ultralytics-8.3.204 ultralytics-thop-2.0.17\n"
     ]
    },
    {
     "name": "stderr",
     "output_type": "stream",
     "text": [
      "\n",
      "[notice] A new release of pip available: 22.3.1 -> 25.2\n",
      "[notice] To update, run: python.exe -m pip install --upgrade pip\n"
     ]
    }
   ],
   "source": [
    "!pip install hailo-model-zoo\n",
    "!pip install ultralytics "
   ]
  },
  {
   "cell_type": "code",
   "execution_count": 8,
   "id": "79df8ab3",
   "metadata": {},
   "outputs": [
    {
     "name": "stdout",
     "output_type": "stream",
     "text": [
      "Ultralytics 8.3.204  Python-3.10.10 torch-2.8.0+cpu CPU (12th Gen Intel Core i7-1260P)\n",
      "YOLO11n summary (fused): 100 layers, 2,582,347 parameters, 0 gradients, 6.3 GFLOPs\n",
      "\n",
      "\u001b[34m\u001b[1mPyTorch:\u001b[0m starting from 'paper_ball.pt' with input shape (1, 3, 640, 640) BCHW and output shape(s) (1, 5, 8400) (5.2 MB)\n",
      "\u001b[31m\u001b[1mrequirements:\u001b[0m Ultralytics requirements ['onnx>=1.12.0', 'onnxslim>=0.1.67', 'onnxruntime'] not found, attempting AutoUpdate...\n",
      "Collecting onnx>=1.12.0\n",
      "  Downloading onnx-1.19.0-cp310-cp310-win_amd64.whl (16.5 MB)\n",
      "     -------------------------------------- 16.5/16.5 MB 793.2 kB/s eta 0:00:00\n",
      "Collecting onnxslim>=0.1.67\n",
      "  Downloading onnxslim-0.1.70-py3-none-any.whl (164 kB)\n",
      "     -------------------------------------- 165.0/165.0 kB 1.2 MB/s eta 0:00:00\n",
      "Collecting onnxruntime\n",
      "  Downloading onnxruntime-1.23.0-cp310-cp310-win_amd64.whl (13.4 MB)\n",
      "     -------------------------------------- 13.4/13.4 MB 864.4 kB/s eta 0:00:00\n",
      "Collecting protobuf>=4.25.1\n",
      "  Downloading protobuf-6.32.1-cp310-abi3-win_amd64.whl (435 kB)\n",
      "     -------------------------------------- 435.7/435.7 kB 3.9 MB/s eta 0:00:00\n",
      "Requirement already satisfied: numpy>=1.22 in d:\\.projectpython\\exportdataintohef\\compiler_pt_to_hef\\lib\\site-packages (from onnx>=1.12.0) (2.2.6)\n",
      "Requirement already satisfied: typing_extensions>=4.7.1 in d:\\.projectpython\\exportdataintohef\\compiler_pt_to_hef\\lib\\site-packages (from onnx>=1.12.0) (4.15.0)\n",
      "Collecting ml_dtypes\n",
      "  Downloading ml_dtypes-0.5.3-cp310-cp310-win_amd64.whl (206 kB)\n",
      "     -------------------------------------- 206.3/206.3 kB 4.3 MB/s eta 0:00:00\n",
      "Requirement already satisfied: packaging in d:\\.projectpython\\exportdataintohef\\compiler_pt_to_hef\\lib\\site-packages (from onnxslim>=0.1.67) (25.0)\n",
      "Requirement already satisfied: colorama in d:\\.projectpython\\exportdataintohef\\compiler_pt_to_hef\\lib\\site-packages (from onnxslim>=0.1.67) (0.4.6)\n",
      "Requirement already satisfied: sympy>=1.13.3 in d:\\.projectpython\\exportdataintohef\\compiler_pt_to_hef\\lib\\site-packages (from onnxslim>=0.1.67) (1.14.0)\n",
      "Collecting flatbuffers\n",
      "  Downloading flatbuffers-25.9.23-py2.py3-none-any.whl (30 kB)\n",
      "Collecting coloredlogs\n",
      "  Downloading coloredlogs-15.0.1-py2.py3-none-any.whl (46 kB)\n",
      "     ---------------------------------------- 46.0/46.0 kB ? eta 0:00:00\n",
      "Requirement already satisfied: mpmath<1.4,>=1.1.0 in d:\\.projectpython\\exportdataintohef\\compiler_pt_to_hef\\lib\\site-packages (from sympy>=1.13.3->onnxslim>=0.1.67) (1.3.0)\n",
      "Collecting humanfriendly>=9.1\n",
      "  Downloading humanfriendly-10.0-py2.py3-none-any.whl (86 kB)\n",
      "     ---------------------------------------- 86.8/86.8 kB 1.2 MB/s eta 0:00:00\n",
      "Collecting pyreadline3\n",
      "  Downloading pyreadline3-3.5.4-py3-none-any.whl (83 kB)\n",
      "     ---------------------------------------- 83.2/83.2 kB 2.4 MB/s eta 0:00:00\n",
      "Installing collected packages: flatbuffers, pyreadline3, protobuf, ml_dtypes, onnx, humanfriendly, onnxslim, coloredlogs, onnxruntime\n",
      "Successfully installed coloredlogs-15.0.1 flatbuffers-25.9.23 humanfriendly-10.0 ml_dtypes-0.5.3 onnx-1.19.0 onnxruntime-1.23.0 onnxslim-0.1.70 protobuf-6.32.1 pyreadline3-3.5.4\n",
      "\n",
      "\u001b[31m\u001b[1mrequirements:\u001b[0m AutoUpdate success  73.5s\n",
      "WARNING \u001b[31m\u001b[1mrequirements:\u001b[0m \u001b[1mRestart runtime or rerun command for updates to take effect\u001b[0m\n",
      "\n",
      "\n",
      "\u001b[34m\u001b[1mONNX:\u001b[0m starting export with onnx 1.19.0 opset 11...\n",
      "\u001b[34m\u001b[1mONNX:\u001b[0m slimming with onnxslim 0.1.70...\n",
      "\u001b[34m\u001b[1mONNX:\u001b[0m export success  75.8s, saved as 'paper_ball.onnx' (10.1 MB)\n",
      "\n",
      "Export complete (76.2s)\n",
      "Results saved to \u001b[1mD:\\.ProjectPython\\ExportDataIntoHef\u001b[0m\n",
      "Predict:         yolo predict task=detect model=paper_ball.onnx imgsz=640  \n",
      "Validate:        yolo val task=detect model=paper_ball.onnx imgsz=640 data=/train/cache/dataset/data.yaml  \n",
      "Visualize:       https://netron.app\n"
     ]
    },
    {
     "data": {
      "text/plain": [
       "'paper_ball.onnx'"
      ]
     },
     "execution_count": 8,
     "metadata": {},
     "output_type": "execute_result"
    }
   ],
   "source": [
    "from ultralytics import YOLO\n",
    "\n",
    "# Load model YOLOv11 của bạn\n",
    "model = YOLO('paper_ball.pt')\n",
    "\n",
    "# Export sang ONNX\n",
    "model.export(\n",
    "    format='onnx',\n",
    "    imgsz=640,  # Kích thước input (640x640 hoặc theo model bạn)\n",
    "    opset=11,   # ONNX opset version\n",
    "    simplify=True  # Đơn giản hóa graph\n",
    ")\n",
    "\n",
    "# Sẽ tạo file best.onnx"
   ]
  },
  {
   "cell_type": "code",
   "execution_count": 10,
   "id": "9c410fab",
   "metadata": {},
   "outputs": [
    {
     "name": "stdout",
     "output_type": "stream",
     "text": [
      "✓ ONNX model hợp lệ!\n"
     ]
    }
   ],
   "source": [
    "import onnx\n",
    "\n",
    "# Load và kiểm tra\n",
    "onnx_model = onnx.load(\"paper_ball.onnx\")\n",
    "onnx.checker.check_model(onnx_model)\n",
    "print(\"✓ ONNX model hợp lệ!\")"
   ]
  },
  {
   "cell_type": "code",
   "execution_count": null,
   "id": "04f6f9b1",
   "metadata": {},
   "outputs": [],
   "source": []
  }
 ],
 "metadata": {
  "kernelspec": {
   "display_name": "Compiler_pt_to_Hef",
   "language": "python",
   "name": "python3"
  },
  "language_info": {
   "codemirror_mode": {
    "name": "ipython",
    "version": 3
   },
   "file_extension": ".py",
   "mimetype": "text/x-python",
   "name": "python",
   "nbconvert_exporter": "python",
   "pygments_lexer": "ipython3",
   "version": "3.10.10"
  }
 },
 "nbformat": 4,
 "nbformat_minor": 5
}
